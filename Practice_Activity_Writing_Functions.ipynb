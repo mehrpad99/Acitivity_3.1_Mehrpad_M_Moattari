{
 "cells": [
  {
   "cell_type": "raw",
   "metadata": {},
   "source": [
    "---\n",
    "self-contained: true\n",
    "title : \"Activity3.1_Mehrpad_Moattari\" \n",
    "format:\n",
    "    html: \n",
    "        theme: sandstone\n",
    "---"
   ]
  },
  {
   "cell_type": "markdown",
   "metadata": {
    "id": "1Q8_a-5qociG"
   },
   "source": [
    "1. Fill in the necessary code to write a function called `times_seven()`. The function should take a single argument (`x`) and multiply the input by 7.\n",
    "  + This function should check that the argument is numeric.\n",
    "  + This function should also excitedly announce (print) *“I love sevens!”* if the argument to the function is a 7."
   ]
  },
  {
   "cell_type": "code",
   "execution_count": 1,
   "metadata": {
    "id": "l5CW0nuloYzy"
   },
   "outputs": [],
   "source": [
    "def times_seven(x):\n",
    "\n",
    "  if not isinstance(x, (int, float)):\n",
    "    exit(\"Input must be numeric\")\n",
    "\n",
    "  if x == 7:\n",
    "    print(\"I love sevens!\")\n",
    "\n",
    "  return x * 7 "
   ]
  },
  {
   "cell_type": "markdown",
   "metadata": {
    "id": "nonjYlruotrq"
   },
   "source": [
    "2. Write and run some *unit tests* for your `times_seven` function.  What happens if the input to the function is `[1, 3, 5, 7]`?"
   ]
  },
  {
   "cell_type": "code",
   "execution_count": 2,
   "metadata": {},
   "outputs": [
    {
     "data": {
      "text/plain": [
       "'HelloHelloHelloHelloHelloHelloHello'"
      ]
     },
     "execution_count": 2,
     "metadata": {},
     "output_type": "execute_result"
    }
   ],
   "source": [
    "times_seven(\"Hello\")"
   ]
  },
  {
   "cell_type": "code",
   "execution_count": 3,
   "metadata": {},
   "outputs": [
    {
     "name": "stdout",
     "output_type": "stream",
     "text": [
      "I love sevens!\n"
     ]
    },
    {
     "data": {
      "text/plain": [
       "49"
      ]
     },
     "execution_count": 3,
     "metadata": {},
     "output_type": "execute_result"
    }
   ],
   "source": [
    "times_seven(7)"
   ]
  },
  {
   "cell_type": "markdown",
   "metadata": {
    "id": "98sLHKBno39e"
   },
   "source": [
    "3. Consider the following function:"
   ]
  },
  {
   "cell_type": "code",
   "execution_count": 5,
   "metadata": {
    "id": "V1xGEwq-o5mh"
   },
   "outputs": [],
   "source": [
    "def add_or_subtract(first_num, second_num = 2, type = \"add\"):\n",
    "\n",
    "  if (type == \"add\"):\n",
    "    res = first_num + second_num\n",
    "  elif (type == \"subtract\"):\n",
    "    res = first_num - second_num\n",
    "  else:\n",
    "    exit(\"Please choose `add` or `subtract` as the type.\")\n",
    "\n",
    "    return res"
   ]
  },
  {
   "cell_type": "markdown",
   "metadata": {
    "id": "KIzEYgR1pI0K"
   },
   "source": [
    "**Without running the code**, predict if the following will produce:\n",
    "\n",
    "The function add_or_subtract() takes three parameters: first_num, second_num, and type.\n",
    "\n",
    "\n",
    "This call should result in an addition of 3 and 2, which equals 5. So, it should return 5.\n",
    "a. 1\n",
    "\n",
    "\n",
    "This call should result in a subtraction of 2 from 1, which equals -1. So, it should return -1.\n",
    "b. -1\n",
    "\n",
    "\n",
    "This call should result in an addition of 10 and 20, which equals 30. So, it should return 30.\n",
    "c. 30\n",
    "\n",
    "\n",
    "An error defined by the function add_or_subtract()\n",
    "If the type parameter is neither \"add\" nor \"subtract\", the function will exit with the error message, we should choose 'add' or 'subtract' as the type.\" So, it won't produce an error defined in a different function.\n",
    "d. An error defined by the function `add_or_subtract()`\n",
    "\n",
    "\n",
    "An error defined in a different function, which is called inside the add_or_subtract() function\n",
    "There's no indication in the provided code that another function is called inside add_or_subtract(), so it won't produce an error from a different function.\n",
    "e. An error defined in a different function, which is called inside the `add_or_subtract()` function\n",
    "\n"
   ]
  },
  {
   "cell_type": "code",
   "execution_count": 1,
   "metadata": {
    "id": "AKN_fkigpHIS"
   },
   "outputs": [
    {
     "ename": "NameError",
     "evalue": "name 'add_or_subtract' is not defined",
     "output_type": "error",
     "traceback": [
      "\u001b[1;31m---------------------------------------------------------------------------\u001b[0m",
      "\u001b[1;31mNameError\u001b[0m                                 Traceback (most recent call last)",
      "Cell \u001b[1;32mIn[1], line 1\u001b[0m\n\u001b[1;32m----> 1\u001b[0m add_or_subtract(\u001b[38;5;241m5\u001b[39m, \u001b[38;5;241m6\u001b[39m, \u001b[38;5;28mtype\u001b[39m \u001b[38;5;241m=\u001b[39m \u001b[38;5;124m\"\u001b[39m\u001b[38;5;124msubtract\u001b[39m\u001b[38;5;124m\"\u001b[39m)\n\u001b[0;32m      3\u001b[0m add_or_subtract(\u001b[38;5;124m\"\u001b[39m\u001b[38;5;124morange\u001b[39m\u001b[38;5;124m\"\u001b[39m)\n\u001b[0;32m      5\u001b[0m add_or_subtract(\u001b[38;5;241m5\u001b[39m, \u001b[38;5;241m6\u001b[39m, \u001b[38;5;28mtype\u001b[39m \u001b[38;5;241m=\u001b[39m \u001b[38;5;124m\"\u001b[39m\u001b[38;5;124mmultiply\u001b[39m\u001b[38;5;124m\"\u001b[39m)\n",
      "\u001b[1;31mNameError\u001b[0m: name 'add_or_subtract' is not defined"
     ]
    }
   ],
   "source": [
    "add_or_subtract(5, 6, type = \"subtract\")\n",
    "\n",
    "add_or_subtract(\"orange\")\n",
    "\n",
    "add_or_subtract(5, 6, type = \"multiply\")"
   ]
  },
  {
   "cell_type": "markdown",
   "metadata": {
    "id": "Z0_cVjgdpOSr"
   },
   "source": [
    "4. Consider the following code:"
   ]
  },
  {
   "cell_type": "code",
   "execution_count": 8,
   "metadata": {
    "id": "G4ImmGWGpekK"
   },
   "outputs": [],
   "source": [
    "first_num  = 5\n",
    "second_num = 3\n",
    "\n",
    "result = 8\n",
    "\n",
    "result = add_or_subtract(first_num, second_num = 4)\n",
    "\n",
    "result_2 = add_or_subtract(first_num)"
   ]
  },
  {
   "cell_type": "markdown",
   "metadata": {
    "id": "K0I7k29Qpjfo"
   },
   "source": [
    "\n",
    "In your Global Environment, what is the value of...\n",
    "\n",
    "a. `first_num`\n",
    "\n",
    "5\n",
    "\n",
    "b. `second_num`\n",
    "\n",
    "3\n",
    "\n",
    "c. `result`\n",
    "\n",
    "8\n",
    "\n",
    "d. `result_2`\n",
    "\n",
    "None"
   ]
  }
 ],
 "metadata": {
  "colab": {
   "provenance": []
  },
  "kernelspec": {
   "display_name": "Python 3 (ipykernel)",
   "language": "python",
   "name": "python3"
  },
  "language_info": {
   "codemirror_mode": {
    "name": "ipython",
    "version": 3
   },
   "file_extension": ".py",
   "mimetype": "text/x-python",
   "name": "python",
   "nbconvert_exporter": "python",
   "pygments_lexer": "ipython3",
   "version": "3.11.5"
  }
 },
 "nbformat": 4,
 "nbformat_minor": 1
}
